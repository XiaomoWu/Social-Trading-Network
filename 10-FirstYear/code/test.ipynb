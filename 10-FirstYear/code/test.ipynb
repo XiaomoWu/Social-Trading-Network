{
 "cells": [
  {
   "cell_type": "code",
   "execution_count": 3,
   "metadata": {},
   "outputs": [
    {
     "name": "stdout",
     "output_type": "stream",
     "text": [
      "C:\\Users\\rossz\\OneDrive\\STN\\10-FirstYear\\code\n"
     ]
    }
   ],
   "source": [
    "# import\n",
    "import aiohttp\n",
    "import pkuseg\n",
    "import pymongo\n",
    "import zhconv\n",
    "import joblib\n",
    "from types import TracebackType\n",
    "from typing import Dict, Optional, Type\n",
    "from aip import AipNlp\n",
    "from motor import motor_asyncio\n",
    "from pymongo import MongoClient\n",
    "from pymongo.errors import DuplicateKeyError\n",
    "\n",
    "    \n",
    "# CONFIG\n",
    "if platform.system() == 'Windows':\n",
    "    # CODE_PATH\n",
    "    CODE_PATH = os.path.join(os.environ['onedrive'], 'STN/10-FirstYear/code')\n",
    "    DATA_PATH = os.path.join(os.environ['onedrive'], 'STN/10-FirstYear/data')\n",
    "    BERT_PATH = os.path.join(os.environ['onedrive'], 'Data/BERT')\n",
    "    ERNIE_PATH = os.path.join(os.environ['onedrive'], 'Data/baidu-paddle/LARK/ERNIE')\n",
    "    %cd {CODE_PATH}\n",
    "elif platform.system() == 'Linux':\n",
    "    # CODE_PATH\n",
    "    CODE_PATH = '/mnt/c/Users/rossz/OneDrive/STN/10-FirstYear/code'\n",
    "    DATA_PATH = '/mnt/c/Users/rossz/OneDrive/STN/10-FirstYear/data'\n",
    "    %cd {CODE_PATH}\n",
    "\n",
    "# Baidu NLP\n",
    "def get_token(accounts):\n",
    "    '''get API tokens'''\n",
    "    url = f\"https://aip.baidubce.com/oauth/2.0/token?grant_type=client_credentials\"\n",
    "    for account in accounts:\n",
    "        # client_id 为官网获取的AK， client_secret 为官网获取的SK\n",
    "        param = {'client_id': account['apiKey'],\n",
    "                 'client_secret': account['secretKey']}\n",
    "        resp = requests.get(url, param).json()\n",
    "        yield resp['access_token']\n",
    "        \n",
    "accounts = [{'appId': '16105374', # ross.zhu@outlook.com\n",
    "            'apiKey': 'zShobECEYX2B2CNrcz3QsM3I',\n",
    "            'secretKey': 'xM8g1lkhTd8b7DYGv2H9j7g2hvthPGE5'},\n",
    "           {'appId': '16218655', # 18868819096\n",
    "            'apiKey': 'AG2ygGZbCPqDW25ZC6FinQRy',\n",
    "            'secretKey': 'pcx8pFwjVhD0oGDsdm58bzt7Zm9zFpWk'},\n",
    "           {'appId': '16226200', # 13566633705\n",
    "            'apiKey': 'ymmGiPQoAoSF2KhcGVKNZEVj',\n",
    "            'secretKey': '78oQXsRtdmRcINEGtP3aP2y4sKA7HerU'},\n",
    "           {'appId': '16226243', # 13606586786\n",
    "            'apiKey': 'jIy3T25rYR1Kj9BlCKPcHbYe',\n",
    "            'secretKey': 'jORNEeu7Qnl6L1Hr07NomigmsUtXlloL'},\n",
    "           {'appId': '16230746', # 李锐\n",
    "            'apiKey': 't6sWsoIYinoGBgwbLiCopQHR',\n",
    "            'secretKey': 'evq4UygxQ555LXzVzaDWQS2TfGNUHrYf'},\n",
    "           {'appId': '16307961', # 俞嘉炜\n",
    "            'apiKey': 'TKIEhGe1fIY89VlYm8yjuDZW',\n",
    "            'secretKey': '6kDBxZnGZEsK4y9ntg94VOBSIjLS0UQs'},\n",
    "           {'appId': '16305932', # 芳菲\n",
    "            'apiKey': 'Y7NjBe2sqhfIjSIaB51wvlHH',\n",
    "            'secretKey': 'lqLW2XeSj0xBvCbUASh0E2wuMmW6e4ox'},\n",
    "           {'appId': '16305931', # 小毫生\n",
    "            'apiKey': 'D2GGEWS80KsU9mtft1WnuR0N',\n",
    "            'secretKey': '8FbvLeGD5aXLL6bpKSEZoG7CRt1Q9oqo'},\n",
    "           {'appId': '16306399', # 忻小宇\n",
    "            'apiKey': 'E89qU1OMrwvyanH7xixkFVrR',\n",
    "            'secretKey': 'ljPLgCtzOKLZuG56DPX9hvrVFHRsWHqf'},\n",
    "           {'appId': '16306475', # 杨老板\n",
    "            'apiKey': 'yehP04KXoWADTGUyLF8WK0hN',\n",
    "            'secretKey': 'jfp3wxqupbWfEoNi7L316LdfbUmDmRUo'},\n",
    "           ]\n",
    "tokens = list(get_token(accounts))\n",
    "baidu_clients = [AipNlp(**account) for account in accounts] \n",
    "\n",
    "# MongoDB-pymongo\n",
    "pymongo_client = MongoClient('localhost', 27018)\n",
    "db = pymongo_client.exchange\n",
    "coll_embedding_bd = db.embedding_bd\n",
    "coll_vocab_without_emb = db.vocab_without_emb\n",
    "coll_vocab_to_request = db.vocab_to_request\n",
    "coll_vocab_pos = db.vocab_pos\n",
    "coll_vocab_ne = db.vocab_ne\n",
    "coll_text_seg_bd = db.text_seg_bd\n",
    "coll_title_seg_bd = db.title_seg_bd\n",
    "coll_test = db.test"
   ]
  },
  {
   "cell_type": "code",
   "execution_count": 2,
   "metadata": {},
   "outputs": [],
   "source": [
    "x = ld('cmt_title_segged_pku')"
   ]
  },
  {
   "cell_type": "code",
   "execution_count": 7,
   "metadata": {},
   "outputs": [
    {
     "data": {
      "text/plain": [
       "2000000"
      ]
     },
     "execution_count": 7,
     "metadata": {},
     "output_type": "execute_result"
    }
   ],
   "source": [
    "x = joblib.load('../data/cmt_text_cls_emb_0.joblib')\n",
    "len(x)"
   ]
  }
 ],
 "metadata": {
  "kernelspec": {
   "display_name": "Python 3",
   "language": "python",
   "name": "python3"
  },
  "language_info": {
   "codemirror_mode": {
    "name": "ipython",
    "version": 3
   },
   "file_extension": ".py",
   "mimetype": "text/x-python",
   "name": "python",
   "nbconvert_exporter": "python",
   "pygments_lexer": "ipython3",
   "version": "3.7.1"
  }
 },
 "nbformat": 4,
 "nbformat_minor": 2
}
