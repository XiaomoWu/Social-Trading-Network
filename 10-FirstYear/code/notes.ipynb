{
 "cells": [
  {
   "cell_type": "markdown",
   "metadata": {},
   "source": [
    "# Process text"
   ]
  },
  {
   "cell_type": "markdown",
   "metadata": {},
   "source": [
    "- text wrapped in `<html>`\n",
    "\n",
    "    `['<p>Hello&nbsp;world!</p>', 3340940262, 20100139]`\n",
    "    \n",
    "    - extract text\n",
    "    - filter out other html token, such as `$nbsp`\n",
    "    \n",
    "    \n",
    "- emoji\n",
    "    - `['<img src=\"//assets.imedao.com/ugc/images/face/emoji_22_confused.png\" title=\"[呵呵]\" alt=\"[呵呵]\" height=\"20\" />', 8186325164, 20100140]`\n",
    "    \n",
    "    - if it's from `<img...imedao>`, only extract `title`\n",
    "    \n",
    "    \n",
    "- user images\n",
    "    - `<img class=\"ke_img\" src=\"https://xqimg.imedao.com/149a6fb8ab0633fe8387321b.jpg!custom.jpg\" />`\n",
    "    - remove everything\n",
    " \n",
    "    \n",
    "- @somone\n",
    "    - `['<a href=\"http://xueqiu.com/n/linan\" target=\"_blank\">@linan</a><a href=\"http://xueqiu.com/n/NIKE\" target=\"_blank\">@NIKE</a>', 5127552946, 20100242]`\n",
    "    - only keep `@linan` \n",
    "    - We assue Baidu won't give us embedding for @someone\n",
    "    \n",
    "    \n",
    "- `$stkcd$`\n",
    "    - `<a href=\"http://xueqiu.com/S/SH600992\" target=\"_blank\">$贵绳股份(SH600992)$</a>`\n",
    "    - If it's in the `<a>` tag\n",
    "    - replace $ with space\n",
    "    - extract stkcd\n",
    "    \n",
    "    \n",
    "- `#摇一摇#` xueqiu campain\n",
    "    - `<a href=\"http://xueqiu.com/k?q=%23%E6%91%87%E4%B8%80%E6%91%87PK%23\" target=\"_blank\">#摇一摇PK#</a>`\n",
    "    - only keep `#摇一摇#`\n",
    "    \n",
    "    \n",
    "- other hyperlinks\n",
    "    - `<a href=\"http://finance.sina.com.cn/chanjing/gsnews/2017-07-07/doc-ifyhwefp0248601.shtml\" title=\"http://finance.sina.com.cn/chanjing/gsnews/2017-07-07/doc-ifyhwefp0248601.shtml\" target=\"_blank\">http://finance.sina.com.cn/chanjing/gsnews/2017-07-07/doc-ifyhwefp0248601.shtml</a>`\n",
    "    \n",
    "    \n",
    "- other html tags\n",
    "    - `(</?br? ?/?>|&nbsp;|</?p>|<h\\d>|</?strong>)`\n",
    "    - `&nbsp;`\n",
    "    "
   ]
  },
  {
   "cell_type": "markdown",
   "metadata": {},
   "source": [
    "# Task"
   ]
  },
  {
   "cell_type": "markdown",
   "metadata": {},
   "source": [
    "# Questions\n",
    "\n",
    "- Does XQ index outperform HS300?\n",
    "\n",
    "- Decompose news articles into {market, industry, stock}"
   ]
  },
  {
   "cell_type": "code",
   "execution_count": null,
   "metadata": {},
   "outputs": [],
   "source": []
  }
 ],
 "metadata": {
  "kernelspec": {
   "display_name": "Python 3",
   "language": "python",
   "name": "python3"
  },
  "language_info": {
   "codemirror_mode": {
    "name": "ipython",
    "version": 3
   },
   "file_extension": ".py",
   "mimetype": "text/x-python",
   "name": "python",
   "nbconvert_exporter": "python",
   "pygments_lexer": "ipython3",
   "version": "3.7.1"
  }
 },
 "nbformat": 4,
 "nbformat_minor": 2
}
