{
 "cells": [
  {
   "cell_type": "code",
   "execution_count": 3,
   "metadata": {},
   "outputs": [
    {
     "name": "stdout",
     "output_type": "stream",
     "text": [
      "C:\\Users\\rossz\\OneDrive\\STN\\10-FirstYear\\code\n"
     ]
    }
   ],
   "source": [
    "# CONFIG\n",
    "if platform.system() == 'Windows':\n",
    "    # CODE_PATH\n",
    "    CODE_PATH = os.path.join(os.environ['onedrive'], 'STN/10-FirstYear/code')\n",
    "    DATA_PATH = os.path.join(os.environ['onedrive'], 'STN/10-FirstYear/data')\n",
    "    BERT_PATH = os.path.join(os.environ['onedrive'], 'Data/BERT')\n",
    "    ERNIE_PATH = os.path.join(os.environ['onedrive'], 'Data/baidu-paddle/LARK/ERNIE')\n",
    "    %cd {CODE_PATH}"
   ]
  },
  {
   "cell_type": "code",
   "execution_count": null,
   "metadata": {},
   "outputs": [],
   "source": [
    "def get_doc_emb(cmt_type, emb_level: 'subdoc or sentence', \n",
    "                max_seq_len, batch_size, \n",
    "                finished_file_idx):\n",
    "    all_file_idx = set(int(re.search(r'\\d+', str(x)).group()) for x in Path('../data').glob(f'cmt_{cmt_type}_{emb_level}_*.tsv'))\n",
    "    unfinished_file_idx = all_file_idx - finished_file_idx\n",
    "    \n",
    "    print(f'{len(unfinished_file_idx)} file(s) to process...')\n",
    "    for i, file_idx in enumerate(unfinished_file_idx):\n",
    "        file_path = f'../data/cmt_{cmt_type}_{emb_level}_{file_idx}.tsv'\n",
    "\n",
    "        print(f'{i+1}/{len(unfinished_file_idx)} (file_idx:{file_idx}) started at {Now()}')\n",
    "        t0 = time.time()\n",
    "        with capture_output():\n",
    "            !python {ERNIE_PATH}/ernie_encoder.py --cmt_type {cmt_type} --file_idx {file_idx} --use_cuda true --batch_size {batch_size} --output_dir {DATA_PATH} --init_pretraining_params {ERNIE_PATH}/pretrained/params --data_set {file_path} --vocab_path {ERNIE_PATH}/config/vocab.txt --max_seq_len {max_seq_len} --ernie_config_path {ERNIE_PATH}/config/ernie_config.json\n",
    "        print(f'{i+1}/{len(unfinished_file_idx)} finshed, use {time.time()-t0:.1f}s')\n",
    "        print('-------------------------')\n",
    "        \n",
    "        \n",
    "get_doc_emb(cmt_type='text',\n",
    "            emb_level='subdoc',\n",
    "            max_seq_len=128,\n",
    "            batch_size=128,\n",
    "            finished_file_idx=set(range(30)))"
   ]
  }
 ],
 "metadata": {
  "kernelspec": {
   "display_name": "Python 3",
   "language": "python",
   "name": "python3"
  },
  "language_info": {
   "codemirror_mode": {
    "name": "ipython",
    "version": 3
   },
   "file_extension": ".py",
   "mimetype": "text/x-python",
   "name": "python",
   "nbconvert_exporter": "python",
   "pygments_lexer": "ipython3",
   "version": "3.7.1"
  }
 },
 "nbformat": 4,
 "nbformat_minor": 2
}
