{
 "cells": [
  {
   "cell_type": "markdown",
   "metadata": {},
   "source": [
    "# Init"
   ]
  },
  {
   "cell_type": "code",
   "execution_count": 1,
   "metadata": {},
   "outputs": [],
   "source": [
    "xq_mst_path = '../../09-XQ-1901/Rdata'"
   ]
  },
  {
   "cell_type": "code",
   "execution_count": 2,
   "metadata": {},
   "outputs": [
    {
     "data": {
      "text/html": [
       "'LC_COLLATE=Chinese (Simplified)_China.936;LC_CTYPE=Chinese (Simplified)_China.936;LC_MONETARY=Chinese (Simplified)_China.936;LC_NUMERIC=C;LC_TIME=Chinese (Simplified)_China.936'"
      ],
      "text/latex": [
       "'LC\\_COLLATE=Chinese (Simplified)\\_China.936;LC\\_CTYPE=Chinese (Simplified)\\_China.936;LC\\_MONETARY=Chinese (Simplified)\\_China.936;LC\\_NUMERIC=C;LC\\_TIME=Chinese (Simplified)\\_China.936'"
      ],
      "text/markdown": [
       "'LC_COLLATE=Chinese (Simplified)_China.936;LC_CTYPE=Chinese (Simplified)_China.936;LC_MONETARY=Chinese (Simplified)_China.936;LC_NUMERIC=C;LC_TIME=Chinese (Simplified)_China.936'"
      ],
      "text/plain": [
       "[1] \"LC_COLLATE=Chinese (Simplified)_China.936;LC_CTYPE=Chinese (Simplified)_China.936;LC_MONETARY=Chinese (Simplified)_China.936;LC_NUMERIC=C;LC_TIME=Chinese (Simplified)_China.936\""
      ]
     },
     "metadata": {},
     "output_type": "display_data"
    }
   ],
   "source": [
    "Sys.setlocale(locale='Chinese (Simplified)_China.936')\n",
    "# Sys.setlocale(\"LC_ALL\", 'English_United States.1252')"
   ]
  },
  {
   "cell_type": "markdown",
   "metadata": {},
   "source": [
    "# Export cmt"
   ]
  },
  {
   "cell_type": "code",
   "execution_count": 3,
   "metadata": {},
   "outputs": [
    {
     "ename": "ERROR",
     "evalue": "Error in ld(r.user.cmt.mst.1901, data_path, force = T): 没有\"ld\"这个函数\n",
     "output_type": "error",
     "traceback": [
      "Error in ld(r.user.cmt.mst.1901, data_path, force = T): 没有\"ld\"这个函数\nTraceback:\n"
     ]
    }
   ],
   "source": [
    "# load cmt_raw\n",
    "ld(r.user.cmt.mst.1901, xq_mst_path, force=T)"
   ]
  },
  {
   "cell_type": "code",
   "execution_count": 6,
   "metadata": {},
   "outputs": [],
   "source": [
    "# filter: \n",
    "# - unique `id`\n",
    "# - if duplicated `id`, then select the EARLIEST obs \n",
    "\n",
    "cmt = r.user.cmt.mst.1901[order(id, -lastcrawl)\n",
    "    ][, .(user.id = user.id[1], \n",
    "          created.at = created.at[1], \n",
    "          title = title[1], source = source[.N], \n",
    "          comment.id = comment.id[1], \n",
    "          retweet.status.id = retweet.status.id[1], \n",
    "          text = str_replace_all(text[.N], '\\t', ' '),\n",
    "          lastcrawl = str_replace_all(lastcrawl[.N], '\\t', ' ')), \n",
    "      keyby = .(id)]"
   ]
  },
  {
   "cell_type": "code",
   "execution_count": null,
   "metadata": {},
   "outputs": [],
   "source": [
    "# write_feather(cmt, '../data/cmt.feather')\n",
    "fwrite(cmt, '../data/cmt.csv', sep='\\t')"
   ]
  },
  {
   "cell_type": "markdown",
   "metadata": {},
   "source": [
    "# Descriptive"
   ]
  },
  {
   "cell_type": "markdown",
   "metadata": {},
   "source": [
    "## User"
   ]
  },
  {
   "cell_type": "markdown",
   "metadata": {},
   "source": [
    "### descriptive"
   ]
  },
  {
   "cell_type": "markdown",
   "metadata": {},
   "source": [
    "|portfolio type|number|male|female|following|follwer|\n",
    "|---|---|---|---|---|---|\n",
    "|virtual   |400k|80k |8k|15|0|\n",
    "|real|5k  |1.8k|0.8k|38|4|"
   ]
  },
  {
   "cell_type": "markdown",
   "metadata": {},
   "source": [
    "### category\n"
   ]
  },
  {
   "cell_type": "markdown",
   "metadata": {},
   "source": [
    "As of May 30, 2019\n",
    "\n",
    "- 分析师(IND)：385\n",
    "- 金融机构：256\n",
    "- 财经媒体：181\n",
    "- 上市公司：86\n",
    "- 财务分析（IND）：64\n",
    "- 公司高管（IND）：13\n",
    "- 基金经理(IND)：19\n",
    "- “达人”：（IND）：400+"
   ]
  },
  {
   "cell_type": "code",
   "execution_count": 3,
   "metadata": {},
   "outputs": [
    {
     "name": "stdout",
     "output_type": "stream",
     "text": [
      "' r.user.info.mst.1901 ' successfully loaded \n",
      "Use 8.26 secs \n"
     ]
    }
   ],
   "source": [
    "ld(r.user.info.mst.1901, xq_mst_path)"
   ]
  },
  {
   "cell_type": "code",
   "execution_count": 14,
   "metadata": {},
   "outputs": [],
   "source": [
    "# get unique user\n",
    "user = r.user.info.mst.1901[order(user.id, -lastcrawl)\n",
    "    ][, .SD[1], keyby=.(user.id)]"
   ]
  },
  {
   "cell_type": "code",
   "execution_count": 33,
   "metadata": {},
   "outputs": [
    {
     "data": {
      "text/html": [
       "578387"
      ],
      "text/latex": [
       "578387"
      ],
      "text/markdown": [
       "578387"
      ],
      "text/plain": [
       "[1] 578387"
      ]
     },
     "metadata": {},
     "output_type": "display_data"
    },
    {
     "data": {
      "text/html": [
       "<table>\n",
       "<thead><tr><th scope=col>user.id</th><th scope=col>lastcrawl</th><th scope=col>screen.name</th><th scope=col>gender</th><th scope=col>province</th><th scope=col>city</th><th scope=col>verified.type</th><th scope=col>verified</th><th scope=col>verified.realname</th><th scope=col>verified.description</th><th scope=col>fans.count</th><th scope=col>follow.count</th><th scope=col>stock.count</th><th scope=col>cube.count</th><th scope=col>status.count</th><th scope=col>donate.count</th><th scope=col>st.color</th><th scope=col>step</th><th scope=col>status</th><th scope=col>allow.all.stock</th><th scope=col>domain</th><th scope=col>type</th><th scope=col>url</th><th scope=col>description</th><th scope=col>last.status.id</th></tr></thead>\n",
       "<tbody>\n",
       "\t<tr><td>1000005225      </td><td>1901            </td><td>老牛2811        </td><td>NA              </td><td>NA              </td><td>NA              </td><td>0               </td><td>FALSE           </td><td>FALSE           </td><td>NA              </td><td>0               </td><td>21              </td><td>  2             </td><td>1               </td><td>  0             </td><td>0               </td><td>1               </td><td>null            </td><td>0               </td><td>FALSE           </td><td>NA              </td><td>1               </td><td>NA              </td><td>NA              </td><td>        0       </td></tr>\n",
       "\t<tr><td>1000005331      </td><td>1901            </td><td>心境如水耐心等待</td><td>n               </td><td>浙江            </td><td>城市/地区       </td><td>0               </td><td>FALSE           </td><td>FALSE           </td><td>NA              </td><td>3               </td><td>50              </td><td>136             </td><td>1               </td><td>256             </td><td>0               </td><td>1               </td><td>three           </td><td>1               </td><td>FALSE           </td><td>NA              </td><td>1               </td><td>NA              </td><td>                </td><td>104554474       </td></tr>\n",
       "</tbody>\n",
       "</table>\n"
      ],
      "text/latex": [
       "\\begin{tabular}{r|lllllllllllllllllllllllll}\n",
       " user.id & lastcrawl & screen.name & gender & province & city & verified.type & verified & verified.realname & verified.description & fans.count & follow.count & stock.count & cube.count & status.count & donate.count & st.color & step & status & allow.all.stock & domain & type & url & description & last.status.id\\\\\n",
       "\\hline\n",
       "\t 1000005225       & 1901             & 老牛2811         & NA               & NA               & NA               & 0                & FALSE            & FALSE            & NA               & 0                & 21               &   2              & 1                &   0              & 0                & 1                & null             & 0                & FALSE            & NA               & 1                & NA               & NA               &         0       \\\\\n",
       "\t 1000005331       & 1901             & 心境如水耐心等待 & n                & 浙江             & 城市/地区        & 0                & FALSE            & FALSE            & NA               & 3                & 50               & 136              & 1                & 256              & 0                & 1                & three            & 1                & FALSE            & NA               & 1                & NA               &                  & 104554474       \\\\\n",
       "\\end{tabular}\n"
      ],
      "text/markdown": [
       "\n",
       "user.id | lastcrawl | screen.name | gender | province | city | verified.type | verified | verified.realname | verified.description | fans.count | follow.count | stock.count | cube.count | status.count | donate.count | st.color | step | status | allow.all.stock | domain | type | url | description | last.status.id | \n",
       "|---|---|\n",
       "| 1000005225       | 1901             | 老牛2811         | NA               | NA               | NA               | 0                | FALSE            | FALSE            | NA               | 0                | 21               |   2              | 1                |   0              | 0                | 1                | null             | 0                | FALSE            | NA               | 1                | NA               | NA               |         0        | \n",
       "| 1000005331       | 1901             | 心境如水耐心等待 | n                | 浙江             | 城市/地区        | 0                | FALSE            | FALSE            | NA               | 3                | 50               | 136              | 1                | 256              | 0                | 1                | three            | 1                | FALSE            | NA               | 1                | NA               |                  | 104554474        | \n",
       "\n",
       "\n"
      ],
      "text/plain": [
       "  user.id    lastcrawl screen.name      gender province city      verified.type\n",
       "1 1000005225 1901      老牛2811         NA     NA       NA        0            \n",
       "2 1000005331 1901      心境如水耐心等待 n      浙江     城市/地区 0            \n",
       "  verified verified.realname verified.description fans.count follow.count\n",
       "1 FALSE    FALSE             NA                   0          21          \n",
       "2 FALSE    FALSE             NA                   3          50          \n",
       "  stock.count cube.count status.count donate.count st.color step  status\n",
       "1   2         1            0          0            1        null  0     \n",
       "2 136         1          256          0            1        three 1     \n",
       "  allow.all.stock domain type url description last.status.id\n",
       "1 FALSE           NA     1    NA  NA                  0     \n",
       "2 FALSE           NA     1    NA              104554474     "
      ]
     },
     "metadata": {},
     "output_type": "display_data"
    }
   ],
   "source": [
    "nrow(user)\n",
    "user[1:2]"
   ]
  },
  {
   "cell_type": "code",
   "execution_count": 17,
   "metadata": {},
   "outputs": [
    {
     "data": {
      "text/plain": [
       "verified.type\n",
       "     0      1      2      3      4      5      6 \n",
       "560641    523    197     27      7    134  16858 "
      ]
     },
     "metadata": {},
     "output_type": "display_data"
    }
   ],
   "source": [
    "user[, table(verified.type)]"
   ]
  },
  {
   "cell_type": "code",
   "execution_count": 18,
   "metadata": {},
   "outputs": [
    {
     "data": {
      "text/plain": [
       "verified\n",
       " FALSE   TRUE \n",
       "560609  17778 "
      ]
     },
     "metadata": {},
     "output_type": "display_data"
    }
   ],
   "source": [
    "user[, table(verified)]"
   ]
  },
  {
   "cell_type": "code",
   "execution_count": 21,
   "metadata": {},
   "outputs": [
    {
     "data": {
      "text/plain": [
       "verified.realname\n",
       " FALSE   TRUE \n",
       "559257  19130 "
      ]
     },
     "metadata": {},
     "output_type": "display_data"
    }
   ],
   "source": [
    "user[, table(verified.realname)]"
   ]
  },
  {
   "cell_type": "code",
   "execution_count": 30,
   "metadata": {},
   "outputs": [
    {
     "data": {
      "text/html": [
       "779"
      ],
      "text/latex": [
       "779"
      ],
      "text/markdown": [
       "779"
      ],
      "text/plain": [
       "[1] 779"
      ]
     },
     "metadata": {},
     "output_type": "display_data"
    },
    {
     "data": {
      "text/html": [
       "<table>\n",
       "<thead><tr><th scope=col>verified.description</th><th scope=col>N</th></tr></thead>\n",
       "<tbody>\n",
       "\t<tr><td>《北京商报》记者                                     </td><td>1                                                    </td></tr>\n",
       "\t<tr><td>《逆向致胜：如何成为一个聪明的投资者》作者           </td><td>1                                                    </td></tr>\n",
       "\t<tr><td>《外滩画报》副总编辑田健东                           </td><td>1                                                    </td></tr>\n",
       "\t<tr><td>《雪球专刊》官方账号                                 </td><td>1                                                    </td></tr>\n",
       "\t<tr><td>《证券时报》基金部记者 姚波                          </td><td>1                                                    </td></tr>\n",
       "\t<tr><td>《证券时报》要闻部主任记者胡学文                     </td><td>1                                                    </td></tr>\n",
       "\t<tr><td>《中国企业家》记者李聪                               </td><td>1                                                    </td></tr>\n",
       "\t<tr><td>100offer创始人                                       </td><td>1                                                    </td></tr>\n",
       "\t<tr><td>ADM CAPITAL FOUNDATIONRegulations &amp; Development徐远超</td><td>1                                                        </td></tr>\n",
       "\t<tr><td>ADS Holding Hong Kong Limited证券分析师黄琛为        </td><td>1                                                    </td></tr>\n",
       "\t<tr><td>CXC创投 投资经理                                     </td><td>1                                                    </td></tr>\n",
       "\t<tr><td>i美股资产管理有限公司分析师吴桑茂                    </td><td>1                                                    </td></tr>\n",
       "\t<tr><td>LED行业研究达人                                      </td><td>1                                                    </td></tr>\n",
       "\t<tr><td>RICH资讯官方帐号                                     </td><td>1                                                    </td></tr>\n",
       "\t<tr><td>ServiceNow Solution Architect 汪新亮                 </td><td>1                                                    </td></tr>\n",
       "\t<tr><td>T.H.Capital CEO兼首席分析师 侯晓天                   </td><td>1                                                    </td></tr>\n",
       "\t<tr><td>tech2ipo新媒体运营经理石琦                           </td><td>1                                                    </td></tr>\n",
       "\t<tr><td>test教育专家张会洁                                   </td><td>1                                                    </td></tr>\n",
       "\t<tr><td>TGT汽车零部件总经理余光利                            </td><td>1                                                    </td></tr>\n",
       "\t<tr><td>Youtube工程师齐悦                                    </td><td>1                                                    </td></tr>\n",
       "\t<tr><td>爱尔兰国家财富管理局  黄屹杰                         </td><td>1                                                    </td></tr>\n",
       "\t<tr><td>安徽合力董事会秘书 张孟青                            </td><td>1                                                    </td></tr>\n",
       "\t<tr><td>安信证券股份有限公司投资顾问白鸽                     </td><td>1                                                    </td></tr>\n",
       "\t<tr><td>安信证券股份有限公司投资顾问卢俊英                   </td><td>1                                                    </td></tr>\n",
       "\t<tr><td>安信证券煤炭行业首席分析师 周泰                      </td><td>1                                                    </td></tr>\n",
       "\t<tr><td>安信证券投资顾问阴定新                               </td><td>1                                                    </td></tr>\n",
       "\t<tr><td>奥维云网助理总裁 张彦斌                              </td><td>1                                                    </td></tr>\n",
       "\t<tr><td>巴奇索投资创始人、《菜鸟看财报一学就会》作者耐力兄   </td><td>1                                                    </td></tr>\n",
       "\t<tr><td>白酒行业研究达人                                     </td><td>1                                                    </td></tr>\n",
       "\t<tr><td>白酒行业资深研究达人                                 </td><td>1                                                    </td></tr>\n",
       "\t<tr><td>半导体行业研究达人                                   </td><td>1                                                    </td></tr>\n",
       "\t<tr><td>半导体芯片领域研究达人                               </td><td>1                                                    </td></tr>\n",
       "\t<tr><td>保险产品研究达人                                     </td><td>1                                                    </td></tr>\n",
       "\t<tr><td>保险股研究达人                                       </td><td>3                                                    </td></tr>\n",
       "\t<tr><td>保险行业和财务分析达人                               </td><td>1                                                    </td></tr>\n",
       "\t<tr><td>保险行业研究达人                                     </td><td>1                                                    </td></tr>\n",
       "\t<tr><td>保险和金融行业研究达人                               </td><td>1                                                    </td></tr>\n",
       "\t<tr><td>北极光创投副总裁吴峰                                 </td><td>1                                                    </td></tr>\n",
       "\t<tr><td>北京艾美谷投资管理有限公司合伙人                     </td><td>1                                                    </td></tr>\n",
       "\t<tr><td>北京大成（厦门）律师事务所律师、高级合伙人张贵茂     </td><td>1                                                    </td></tr>\n",
       "\t<tr><td>北京格雷资产管理中心（有限合伙）副总经理冯立辉       </td><td>1                                                    </td></tr>\n",
       "\t<tr><td>北京格雷资产管理中心（有限合伙）总经理张可兴         </td><td>1                                                    </td></tr>\n",
       "\t<tr><td>北京古槐资本投资有限公司合伙人 杜彤                  </td><td>1                                                    </td></tr>\n",
       "\t<tr><td>北京汉和汉华资本管理有限公司 官方账号                </td><td>1                                                    </td></tr>\n",
       "\t<tr><td>北京金大虎资本管理有限公司 官方账号                  </td><td>1                                                    </td></tr>\n",
       "\t<tr><td>北京景富运通投资管理有限公司 官方账号                </td><td>1                                                    </td></tr>\n",
       "\t<tr><td>北京景气经济研究院调研员桂阳                         </td><td>1                                                    </td></tr>\n",
       "\t<tr><td>北京科慧创业投资基金管理有限公司总经理  吕巍鑫       </td><td>1                                                    </td></tr>\n",
       "\t<tr><td>北京框特投资管理中心总经理  丁斌                     </td><td>1                                                    </td></tr>\n",
       "\t<tr><td>北京摩云文创文化传播有限公司 官方账号                </td><td>1                                                    </td></tr>\n",
       "\t<tr><td>...</td><td>...</td></tr>\n",
       "\t<tr><td>中国人寿保险股份有限公司业务主任王国谦    </td><td> 1                                        </td></tr>\n",
       "\t<tr><td>中国铁道出版社财经类图书编辑 刘伟         </td><td> 1                                        </td></tr>\n",
       "\t<tr><td>中国银河证券投资顾问段志强                </td><td> 1                                        </td></tr>\n",
       "\t<tr><td>中国银河证券项目经理 林嘉亮               </td><td> 1                                        </td></tr>\n",
       "\t<tr><td>中国中投证券投资顾问 郑东                 </td><td> 1                                        </td></tr>\n",
       "\t<tr><td>中宏泰（深圳）投资有限公司 总经理 张星龙  </td><td> 1                                        </td></tr>\n",
       "\t<tr><td>中金公司机械行业研究员史成波              </td><td> 1                                        </td></tr>\n",
       "\t<tr><td>中金公司基础化工行业分析师王子欣          </td><td> 1                                        </td></tr>\n",
       "\t<tr><td>中金在线北京分公司账号                    </td><td> 1                                        </td></tr>\n",
       "\t<tr><td>中山市大信置业有限公司审计部副经理邹东明  </td><td> 1                                        </td></tr>\n",
       "\t<tr><td>中泰证券食品饮料研究员 龚小乐             </td><td> 1                                        </td></tr>\n",
       "\t<tr><td>中投吉安投资山东分公司总经理刘明军        </td><td> 1                                        </td></tr>\n",
       "\t<tr><td>中投首善国际资产管理有限公司高级分析师王哲</td><td> 1                                        </td></tr>\n",
       "\t<tr><td>中投证券电子行业研究员 耿琛               </td><td> 1                                        </td></tr>\n",
       "\t<tr><td>中投证券建材行业研究员王海青              </td><td> 1                                        </td></tr>\n",
       "\t<tr><td>中网在线首席运营官                        </td><td> 1                                        </td></tr>\n",
       "\t<tr><td>中信出版社畅销书《蚂蚁金服》作者 由曦     </td><td> 1                                        </td></tr>\n",
       "\t<tr><td>中信建投建材行业首席分析师田东红          </td><td> 1                                        </td></tr>\n",
       "\t<tr><td>中信建投证券汽车行业研究员许宏图          </td><td> 1                                        </td></tr>\n",
       "\t<tr><td>中信证券(浙江)电子行业分析师              </td><td> 1                                        </td></tr>\n",
       "\t<tr><td>中兴通讯股份有限公司商务经理姚芳          </td><td> 1                                        </td></tr>\n",
       "\t<tr><td>中原证券股份有限公司投资顾问刘泓驰        </td><td> 1                                        </td></tr>\n",
       "\t<tr><td>众志汇通资产管理有限公司首席研究员李由    </td><td> 1                                        </td></tr>\n",
       "\t<tr><td>周期股研究达人                            </td><td> 1                                        </td></tr>\n",
       "\t<tr><td>珠海市英迪科技经贸培训学校教务主任        </td><td> 1                                        </td></tr>\n",
       "\t<tr><td>主题投资达人                              </td><td> 1                                        </td></tr>\n",
       "\t<tr><td>资深保险金融行业研究达人                  </td><td> 1                                        </td></tr>\n",
       "\t<tr><td>资深财务分析达人                          </td><td>15                                        </td></tr>\n",
       "\t<tr><td>资深财务分析和创投领域研究达人            </td><td> 1                                        </td></tr>\n",
       "\t<tr><td>资深财务分析和港股研究达人                </td><td> 1                                        </td></tr>\n",
       "\t<tr><td>资深财务和新三板研究达人                  </td><td> 1                                        </td></tr>\n",
       "\t<tr><td>资深财务研究达人                          </td><td> 1                                        </td></tr>\n",
       "\t<tr><td>资深成长股研究达人                        </td><td> 1                                        </td></tr>\n",
       "\t<tr><td>资深低风险投资研究达人                    </td><td> 1                                        </td></tr>\n",
       "\t<tr><td>资深港股投资达人                          </td><td> 1                                        </td></tr>\n",
       "\t<tr><td>资深港股投资研究达人                      </td><td> 3                                        </td></tr>\n",
       "\t<tr><td>资深港股研究达人                          </td><td> 2                                        </td></tr>\n",
       "\t<tr><td>资深基金研究达人                          </td><td> 3                                        </td></tr>\n",
       "\t<tr><td>资深家居行业研究达人                      </td><td> 1                                        </td></tr>\n",
       "\t<tr><td>资深量化投资研究达人                      </td><td> 1                                        </td></tr>\n",
       "\t<tr><td>资深美股研究达人                          </td><td> 5                                        </td></tr>\n",
       "\t<tr><td>资深券商和金融行业研究达人                </td><td> 1                                        </td></tr>\n",
       "\t<tr><td>资深通信行业从业人士                      </td><td> 1                                        </td></tr>\n",
       "\t<tr><td>资深医药行业研究达人                      </td><td> 5                                        </td></tr>\n",
       "\t<tr><td>资深医药领域研究达人                      </td><td> 1                                        </td></tr>\n",
       "\t<tr><td>资深银行保险证券领域研究达人              </td><td> 1                                        </td></tr>\n",
       "\t<tr><td>资深银行股研究达人                        </td><td> 2                                        </td></tr>\n",
       "\t<tr><td>资深银行领域研究达人                      </td><td> 1                                        </td></tr>\n",
       "\t<tr><td>资深指数基金和量化投资研究达人            </td><td> 1                                        </td></tr>\n",
       "\t<tr><td>走遍欧洲-欧洲自助游网创始人 欧阳鑫        </td><td> 1                                        </td></tr>\n",
       "</tbody>\n",
       "</table>\n"
      ],
      "text/latex": [
       "\\begin{tabular}{r|ll}\n",
       " verified.description & N\\\\\n",
       "\\hline\n",
       "\t 《北京商报》记者                                      & 1                                                    \\\\\n",
       "\t 《逆向致胜：如何成为一个聪明的投资者》作者            & 1                                                    \\\\\n",
       "\t 《外滩画报》副总编辑田健东                            & 1                                                    \\\\\n",
       "\t 《雪球专刊》官方账号                                  & 1                                                    \\\\\n",
       "\t 《证券时报》基金部记者 姚波                           & 1                                                    \\\\\n",
       "\t 《证券时报》要闻部主任记者胡学文                      & 1                                                    \\\\\n",
       "\t 《中国企业家》记者李聪                                & 1                                                    \\\\\n",
       "\t 100offer创始人                                        & 1                                                    \\\\\n",
       "\t ADM CAPITAL FOUNDATIONRegulations \\& Development徐远超 & 1                                                      \\\\\n",
       "\t ADS Holding Hong Kong Limited证券分析师黄琛为         & 1                                                    \\\\\n",
       "\t CXC创投 投资经理                                      & 1                                                    \\\\\n",
       "\t i美股资产管理有限公司分析师吴桑茂                     & 1                                                    \\\\\n",
       "\t LED行业研究达人                                       & 1                                                    \\\\\n",
       "\t RICH资讯官方帐号                                      & 1                                                    \\\\\n",
       "\t ServiceNow Solution Architect 汪新亮                  & 1                                                    \\\\\n",
       "\t T.H.Capital CEO兼首席分析师 侯晓天                    & 1                                                    \\\\\n",
       "\t tech2ipo新媒体运营经理石琦                            & 1                                                    \\\\\n",
       "\t test教育专家张会洁                                    & 1                                                    \\\\\n",
       "\t TGT汽车零部件总经理余光利                             & 1                                                    \\\\\n",
       "\t Youtube工程师齐悦                                     & 1                                                    \\\\\n",
       "\t 爱尔兰国家财富管理局  黄屹杰                          & 1                                                    \\\\\n",
       "\t 安徽合力董事会秘书 张孟青                             & 1                                                    \\\\\n",
       "\t 安信证券股份有限公司投资顾问白鸽                      & 1                                                    \\\\\n",
       "\t 安信证券股份有限公司投资顾问卢俊英                    & 1                                                    \\\\\n",
       "\t 安信证券煤炭行业首席分析师 周泰                       & 1                                                    \\\\\n",
       "\t 安信证券投资顾问阴定新                                & 1                                                    \\\\\n",
       "\t 奥维云网助理总裁 张彦斌                               & 1                                                    \\\\\n",
       "\t 巴奇索投资创始人、《菜鸟看财报一学就会》作者耐力兄    & 1                                                    \\\\\n",
       "\t 白酒行业研究达人                                      & 1                                                    \\\\\n",
       "\t 白酒行业资深研究达人                                  & 1                                                    \\\\\n",
       "\t 半导体行业研究达人                                    & 1                                                    \\\\\n",
       "\t 半导体芯片领域研究达人                                & 1                                                    \\\\\n",
       "\t 保险产品研究达人                                      & 1                                                    \\\\\n",
       "\t 保险股研究达人                                        & 3                                                    \\\\\n",
       "\t 保险行业和财务分析达人                                & 1                                                    \\\\\n",
       "\t 保险行业研究达人                                      & 1                                                    \\\\\n",
       "\t 保险和金融行业研究达人                                & 1                                                    \\\\\n",
       "\t 北极光创投副总裁吴峰                                  & 1                                                    \\\\\n",
       "\t 北京艾美谷投资管理有限公司合伙人                      & 1                                                    \\\\\n",
       "\t 北京大成（厦门）律师事务所律师、高级合伙人张贵茂      & 1                                                    \\\\\n",
       "\t 北京格雷资产管理中心（有限合伙）副总经理冯立辉        & 1                                                    \\\\\n",
       "\t 北京格雷资产管理中心（有限合伙）总经理张可兴          & 1                                                    \\\\\n",
       "\t 北京古槐资本投资有限公司合伙人 杜彤                   & 1                                                    \\\\\n",
       "\t 北京汉和汉华资本管理有限公司 官方账号                 & 1                                                    \\\\\n",
       "\t 北京金大虎资本管理有限公司 官方账号                   & 1                                                    \\\\\n",
       "\t 北京景富运通投资管理有限公司 官方账号                 & 1                                                    \\\\\n",
       "\t 北京景气经济研究院调研员桂阳                          & 1                                                    \\\\\n",
       "\t 北京科慧创业投资基金管理有限公司总经理  吕巍鑫        & 1                                                    \\\\\n",
       "\t 北京框特投资管理中心总经理  丁斌                      & 1                                                    \\\\\n",
       "\t 北京摩云文创文化传播有限公司 官方账号                 & 1                                                    \\\\\n",
       "\t ... & ...\\\\\n",
       "\t 中国人寿保险股份有限公司业务主任王国谦     &  1                                        \\\\\n",
       "\t 中国铁道出版社财经类图书编辑 刘伟          &  1                                        \\\\\n",
       "\t 中国银河证券投资顾问段志强                 &  1                                        \\\\\n",
       "\t 中国银河证券项目经理 林嘉亮                &  1                                        \\\\\n",
       "\t 中国中投证券投资顾问 郑东                  &  1                                        \\\\\n",
       "\t 中宏泰（深圳）投资有限公司 总经理 张星龙   &  1                                        \\\\\n",
       "\t 中金公司机械行业研究员史成波               &  1                                        \\\\\n",
       "\t 中金公司基础化工行业分析师王子欣           &  1                                        \\\\\n",
       "\t 中金在线北京分公司账号                     &  1                                        \\\\\n",
       "\t 中山市大信置业有限公司审计部副经理邹东明   &  1                                        \\\\\n",
       "\t 中泰证券食品饮料研究员 龚小乐              &  1                                        \\\\\n",
       "\t 中投吉安投资山东分公司总经理刘明军         &  1                                        \\\\\n",
       "\t 中投首善国际资产管理有限公司高级分析师王哲 &  1                                        \\\\\n",
       "\t 中投证券电子行业研究员 耿琛                &  1                                        \\\\\n",
       "\t 中投证券建材行业研究员王海青               &  1                                        \\\\\n",
       "\t 中网在线首席运营官                         &  1                                        \\\\\n",
       "\t 中信出版社畅销书《蚂蚁金服》作者 由曦      &  1                                        \\\\\n",
       "\t 中信建投建材行业首席分析师田东红           &  1                                        \\\\\n",
       "\t 中信建投证券汽车行业研究员许宏图           &  1                                        \\\\\n",
       "\t 中信证券(浙江)电子行业分析师               &  1                                        \\\\\n",
       "\t 中兴通讯股份有限公司商务经理姚芳           &  1                                        \\\\\n",
       "\t 中原证券股份有限公司投资顾问刘泓驰         &  1                                        \\\\\n",
       "\t 众志汇通资产管理有限公司首席研究员李由     &  1                                        \\\\\n",
       "\t 周期股研究达人                             &  1                                        \\\\\n",
       "\t 珠海市英迪科技经贸培训学校教务主任         &  1                                        \\\\\n",
       "\t 主题投资达人                               &  1                                        \\\\\n",
       "\t 资深保险金融行业研究达人                   &  1                                        \\\\\n",
       "\t 资深财务分析达人                           & 15                                        \\\\\n",
       "\t 资深财务分析和创投领域研究达人             &  1                                        \\\\\n",
       "\t 资深财务分析和港股研究达人                 &  1                                        \\\\\n",
       "\t 资深财务和新三板研究达人                   &  1                                        \\\\\n",
       "\t 资深财务研究达人                           &  1                                        \\\\\n",
       "\t 资深成长股研究达人                         &  1                                        \\\\\n",
       "\t 资深低风险投资研究达人                     &  1                                        \\\\\n",
       "\t 资深港股投资达人                           &  1                                        \\\\\n",
       "\t 资深港股投资研究达人                       &  3                                        \\\\\n",
       "\t 资深港股研究达人                           &  2                                        \\\\\n",
       "\t 资深基金研究达人                           &  3                                        \\\\\n",
       "\t 资深家居行业研究达人                       &  1                                        \\\\\n",
       "\t 资深量化投资研究达人                       &  1                                        \\\\\n",
       "\t 资深美股研究达人                           &  5                                        \\\\\n",
       "\t 资深券商和金融行业研究达人                 &  1                                        \\\\\n",
       "\t 资深通信行业从业人士                       &  1                                        \\\\\n",
       "\t 资深医药行业研究达人                       &  5                                        \\\\\n",
       "\t 资深医药领域研究达人                       &  1                                        \\\\\n",
       "\t 资深银行保险证券领域研究达人               &  1                                        \\\\\n",
       "\t 资深银行股研究达人                         &  2                                        \\\\\n",
       "\t 资深银行领域研究达人                       &  1                                        \\\\\n",
       "\t 资深指数基金和量化投资研究达人             &  1                                        \\\\\n",
       "\t 走遍欧洲-欧洲自助游网创始人 欧阳鑫         &  1                                        \\\\\n",
       "\\end{tabular}\n"
      ],
      "text/markdown": [
       "\n",
       "verified.description | N | \n",
       "|---|---|---|---|---|---|---|---|---|---|---|---|---|---|---|---|---|---|---|---|---|---|---|---|---|---|---|---|---|---|---|---|---|---|---|---|---|---|---|---|---|---|---|---|---|---|---|---|---|---|---|---|---|---|---|---|---|---|---|---|---|---|---|---|---|---|---|---|---|---|---|---|---|---|---|---|---|---|---|---|---|---|---|---|---|---|---|---|---|---|---|---|---|---|---|---|---|---|---|---|---|\n",
       "| 《北京商报》记者                                      | 1                                                     | \n",
       "| 《逆向致胜：如何成为一个聪明的投资者》作者            | 1                                                     | \n",
       "| 《外滩画报》副总编辑田健东                            | 1                                                     | \n",
       "| 《雪球专刊》官方账号                                  | 1                                                     | \n",
       "| 《证券时报》基金部记者 姚波                           | 1                                                     | \n",
       "| 《证券时报》要闻部主任记者胡学文                      | 1                                                     | \n",
       "| 《中国企业家》记者李聪                                | 1                                                     | \n",
       "| 100offer创始人                                        | 1                                                     | \n",
       "| ADM CAPITAL FOUNDATIONRegulations & Development徐远超 | 1                                                     | \n",
       "| ADS Holding Hong Kong Limited证券分析师黄琛为         | 1                                                     | \n",
       "| CXC创投 投资经理                                      | 1                                                     | \n",
       "| i美股资产管理有限公司分析师吴桑茂                     | 1                                                     | \n",
       "| LED行业研究达人                                       | 1                                                     | \n",
       "| RICH资讯官方帐号                                      | 1                                                     | \n",
       "| ServiceNow Solution Architect 汪新亮                  | 1                                                     | \n",
       "| T.H.Capital CEO兼首席分析师 侯晓天                    | 1                                                     | \n",
       "| tech2ipo新媒体运营经理石琦                            | 1                                                     | \n",
       "| test教育专家张会洁                                    | 1                                                     | \n",
       "| TGT汽车零部件总经理余光利                             | 1                                                     | \n",
       "| Youtube工程师齐悦                                     | 1                                                     | \n",
       "| 爱尔兰国家财富管理局  黄屹杰                          | 1                                                     | \n",
       "| 安徽合力董事会秘书 张孟青                             | 1                                                     | \n",
       "| 安信证券股份有限公司投资顾问白鸽                      | 1                                                     | \n",
       "| 安信证券股份有限公司投资顾问卢俊英                    | 1                                                     | \n",
       "| 安信证券煤炭行业首席分析师 周泰                       | 1                                                     | \n",
       "| 安信证券投资顾问阴定新                                | 1                                                     | \n",
       "| 奥维云网助理总裁 张彦斌                               | 1                                                     | \n",
       "| 巴奇索投资创始人、《菜鸟看财报一学就会》作者耐力兄    | 1                                                     | \n",
       "| 白酒行业研究达人                                      | 1                                                     | \n",
       "| 白酒行业资深研究达人                                  | 1                                                     | \n",
       "| 半导体行业研究达人                                    | 1                                                     | \n",
       "| 半导体芯片领域研究达人                                | 1                                                     | \n",
       "| 保险产品研究达人                                      | 1                                                     | \n",
       "| 保险股研究达人                                        | 3                                                     | \n",
       "| 保险行业和财务分析达人                                | 1                                                     | \n",
       "| 保险行业研究达人                                      | 1                                                     | \n",
       "| 保险和金融行业研究达人                                | 1                                                     | \n",
       "| 北极光创投副总裁吴峰                                  | 1                                                     | \n",
       "| 北京艾美谷投资管理有限公司合伙人                      | 1                                                     | \n",
       "| 北京大成（厦门）律师事务所律师、高级合伙人张贵茂      | 1                                                     | \n",
       "| 北京格雷资产管理中心（有限合伙）副总经理冯立辉        | 1                                                     | \n",
       "| 北京格雷资产管理中心（有限合伙）总经理张可兴          | 1                                                     | \n",
       "| 北京古槐资本投资有限公司合伙人 杜彤                   | 1                                                     | \n",
       "| 北京汉和汉华资本管理有限公司 官方账号                 | 1                                                     | \n",
       "| 北京金大虎资本管理有限公司 官方账号                   | 1                                                     | \n",
       "| 北京景富运通投资管理有限公司 官方账号                 | 1                                                     | \n",
       "| 北京景气经济研究院调研员桂阳                          | 1                                                     | \n",
       "| 北京科慧创业投资基金管理有限公司总经理  吕巍鑫        | 1                                                     | \n",
       "| 北京框特投资管理中心总经理  丁斌                      | 1                                                     | \n",
       "| 北京摩云文创文化传播有限公司 官方账号                 | 1                                                     | \n",
       "| ... | ... | \n",
       "| 中国人寿保险股份有限公司业务主任王国谦     |  1                                         | \n",
       "| 中国铁道出版社财经类图书编辑 刘伟          |  1                                         | \n",
       "| 中国银河证券投资顾问段志强                 |  1                                         | \n",
       "| 中国银河证券项目经理 林嘉亮                |  1                                         | \n",
       "| 中国中投证券投资顾问 郑东                  |  1                                         | \n",
       "| 中宏泰（深圳）投资有限公司 总经理 张星龙   |  1                                         | \n",
       "| 中金公司机械行业研究员史成波               |  1                                         | \n",
       "| 中金公司基础化工行业分析师王子欣           |  1                                         | \n",
       "| 中金在线北京分公司账号                     |  1                                         | \n",
       "| 中山市大信置业有限公司审计部副经理邹东明   |  1                                         | \n",
       "| 中泰证券食品饮料研究员 龚小乐              |  1                                         | \n",
       "| 中投吉安投资山东分公司总经理刘明军         |  1                                         | \n",
       "| 中投首善国际资产管理有限公司高级分析师王哲 |  1                                         | \n",
       "| 中投证券电子行业研究员 耿琛                |  1                                         | \n",
       "| 中投证券建材行业研究员王海青               |  1                                         | \n",
       "| 中网在线首席运营官                         |  1                                         | \n",
       "| 中信出版社畅销书《蚂蚁金服》作者 由曦      |  1                                         | \n",
       "| 中信建投建材行业首席分析师田东红           |  1                                         | \n",
       "| 中信建投证券汽车行业研究员许宏图           |  1                                         | \n",
       "| 中信证券(浙江)电子行业分析师               |  1                                         | \n",
       "| 中兴通讯股份有限公司商务经理姚芳           |  1                                         | \n",
       "| 中原证券股份有限公司投资顾问刘泓驰         |  1                                         | \n",
       "| 众志汇通资产管理有限公司首席研究员李由     |  1                                         | \n",
       "| 周期股研究达人                             |  1                                         | \n",
       "| 珠海市英迪科技经贸培训学校教务主任         |  1                                         | \n",
       "| 主题投资达人                               |  1                                         | \n",
       "| 资深保险金融行业研究达人                   |  1                                         | \n",
       "| 资深财务分析达人                           | 15                                         | \n",
       "| 资深财务分析和创投领域研究达人             |  1                                         | \n",
       "| 资深财务分析和港股研究达人                 |  1                                         | \n",
       "| 资深财务和新三板研究达人                   |  1                                         | \n",
       "| 资深财务研究达人                           |  1                                         | \n",
       "| 资深成长股研究达人                         |  1                                         | \n",
       "| 资深低风险投资研究达人                     |  1                                         | \n",
       "| 资深港股投资达人                           |  1                                         | \n",
       "| 资深港股投资研究达人                       |  3                                         | \n",
       "| 资深港股研究达人                           |  2                                         | \n",
       "| 资深基金研究达人                           |  3                                         | \n",
       "| 资深家居行业研究达人                       |  1                                         | \n",
       "| 资深量化投资研究达人                       |  1                                         | \n",
       "| 资深美股研究达人                           |  5                                         | \n",
       "| 资深券商和金融行业研究达人                 |  1                                         | \n",
       "| 资深通信行业从业人士                       |  1                                         | \n",
       "| 资深医药行业研究达人                       |  5                                         | \n",
       "| 资深医药领域研究达人                       |  1                                         | \n",
       "| 资深银行保险证券领域研究达人               |  1                                         | \n",
       "| 资深银行股研究达人                         |  2                                         | \n",
       "| 资深银行领域研究达人                       |  1                                         | \n",
       "| 资深指数基金和量化投资研究达人             |  1                                         | \n",
       "| 走遍欧洲-欧洲自助游网创始人 欧阳鑫         |  1                                         | \n",
       "\n",
       "\n"
      ],
      "text/plain": [
       "    verified.description                                  N  \n",
       "1   《北京商报》记者                                      1  \n",
       "2   《逆向致胜：如何成为一个聪明的投资者》作者            1  \n",
       "3   《外滩画报》副总编辑田健东                            1  \n",
       "4   《雪球专刊》官方账号                                  1  \n",
       "5   《证券时报》基金部记者 姚波                           1  \n",
       "6   《证券时报》要闻部主任记者胡学文                      1  \n",
       "7   《中国企业家》记者李聪                                1  \n",
       "8   100offer创始人                                        1  \n",
       "9   ADM CAPITAL FOUNDATIONRegulations & Development徐远超 1  \n",
       "10  ADS Holding Hong Kong Limited证券分析师黄琛为         1  \n",
       "11  CXC创投 投资经理                                      1  \n",
       "12  i美股资产管理有限公司分析师吴桑茂                     1  \n",
       "13  LED行业研究达人                                       1  \n",
       "14  RICH资讯官方帐号                                      1  \n",
       "15  ServiceNow Solution Architect 汪新亮                  1  \n",
       "16  T.H.Capital CEO兼首席分析师 侯晓天                    1  \n",
       "17  tech2ipo新媒体运营经理石琦                            1  \n",
       "18  test教育专家张会洁                                    1  \n",
       "19  TGT汽车零部件总经理余光利                             1  \n",
       "20  Youtube工程师齐悦                                     1  \n",
       "21  爱尔兰国家财富管理局  黄屹杰                          1  \n",
       "22  安徽合力董事会秘书 张孟青                             1  \n",
       "23  安信证券股份有限公司投资顾问白鸽                      1  \n",
       "24  安信证券股份有限公司投资顾问卢俊英                    1  \n",
       "25  安信证券煤炭行业首席分析师 周泰                       1  \n",
       "26  安信证券投资顾问阴定新                                1  \n",
       "27  奥维云网助理总裁 张彦斌                               1  \n",
       "28  巴奇索投资创始人、《菜鸟看财报一学就会》作者耐力兄    1  \n",
       "29  白酒行业研究达人                                      1  \n",
       "30  白酒行业资深研究达人                                  1  \n",
       "31  半导体行业研究达人                                    1  \n",
       "32  半导体芯片领域研究达人                                1  \n",
       "33  保险产品研究达人                                      1  \n",
       "34  保险股研究达人                                        3  \n",
       "35  保险行业和财务分析达人                                1  \n",
       "36  保险行业研究达人                                      1  \n",
       "37  保险和金融行业研究达人                                1  \n",
       "38  北极光创投副总裁吴峰                                  1  \n",
       "39  北京艾美谷投资管理有限公司合伙人                      1  \n",
       "40  北京大成（厦门）律师事务所律师、高级合伙人张贵茂      1  \n",
       "41  北京格雷资产管理中心（有限合伙）副总经理冯立辉        1  \n",
       "42  北京格雷资产管理中心（有限合伙）总经理张可兴          1  \n",
       "43  北京古槐资本投资有限公司合伙人 杜彤                   1  \n",
       "44  北京汉和汉华资本管理有限公司 官方账号                 1  \n",
       "45  北京金大虎资本管理有限公司 官方账号                   1  \n",
       "46  北京景富运通投资管理有限公司 官方账号                 1  \n",
       "47  北京景气经济研究院调研员桂阳                          1  \n",
       "48  北京科慧创业投资基金管理有限公司总经理  吕巍鑫        1  \n",
       "49  北京框特投资管理中心总经理  丁斌                      1  \n",
       "50  北京摩云文创文化传播有限公司 官方账号                 1  \n",
       "... ...                                                   ...\n",
       "730 中国人寿保险股份有限公司业务主任王国谦                 1 \n",
       "731 中国铁道出版社财经类图书编辑 刘伟                      1 \n",
       "732 中国银河证券投资顾问段志强                             1 \n",
       "733 中国银河证券项目经理 林嘉亮                            1 \n",
       "734 中国中投证券投资顾问 郑东                              1 \n",
       "735 中宏泰（深圳）投资有限公司 总经理 张星龙               1 \n",
       "736 中金公司机械行业研究员史成波                           1 \n",
       "737 中金公司基础化工行业分析师王子欣                       1 \n",
       "738 中金在线北京分公司账号                                 1 \n",
       "739 中山市大信置业有限公司审计部副经理邹东明               1 \n",
       "740 中泰证券食品饮料研究员 龚小乐                          1 \n",
       "741 中投吉安投资山东分公司总经理刘明军                     1 \n",
       "742 中投首善国际资产管理有限公司高级分析师王哲             1 \n",
       "743 中投证券电子行业研究员 耿琛                            1 \n",
       "744 中投证券建材行业研究员王海青                           1 \n",
       "745 中网在线首席运营官                                     1 \n",
       "746 中信出版社畅销书《蚂蚁金服》作者 由曦                  1 \n",
       "747 中信建投建材行业首席分析师田东红                       1 \n",
       "748 中信建投证券汽车行业研究员许宏图                       1 \n",
       "749 中信证券(浙江)电子行业分析师                           1 \n",
       "750 中兴通讯股份有限公司商务经理姚芳                       1 \n",
       "751 中原证券股份有限公司投资顾问刘泓驰                     1 \n",
       "752 众志汇通资产管理有限公司首席研究员李由                 1 \n",
       "753 周期股研究达人                                         1 \n",
       "754 珠海市英迪科技经贸培训学校教务主任                     1 \n",
       "755 主题投资达人                                           1 \n",
       "756 资深保险金融行业研究达人                               1 \n",
       "757 资深财务分析达人                                      15 \n",
       "758 资深财务分析和创投领域研究达人                         1 \n",
       "759 资深财务分析和港股研究达人                             1 \n",
       "760 资深财务和新三板研究达人                               1 \n",
       "761 资深财务研究达人                                       1 \n",
       "762 资深成长股研究达人                                     1 \n",
       "763 资深低风险投资研究达人                                 1 \n",
       "764 资深港股投资达人                                       1 \n",
       "765 资深港股投资研究达人                                   3 \n",
       "766 资深港股研究达人                                       2 \n",
       "767 资深基金研究达人                                       3 \n",
       "768 资深家居行业研究达人                                   1 \n",
       "769 资深量化投资研究达人                                   1 \n",
       "770 资深美股研究达人                                       5 \n",
       "771 资深券商和金融行业研究达人                             1 \n",
       "772 资深通信行业从业人士                                   1 \n",
       "773 资深医药行业研究达人                                   5 \n",
       "774 资深医药领域研究达人                                   1 \n",
       "775 资深银行保险证券领域研究达人                           1 \n",
       "776 资深银行股研究达人                                     2 \n",
       "777 资深银行领域研究达人                                   1 \n",
       "778 资深指数基金和量化投资研究达人                         1 \n",
       "779 走遍欧洲-欧洲自助游网创始人 欧阳鑫                     1 "
      ]
     },
     "metadata": {},
     "output_type": "display_data"
    }
   ],
   "source": [
    "ver_desc = as.data.table(user[, table(verified.description)])\n",
    "nrow(ver_desc)\n",
    "ver_desc"
   ]
  },
  {
   "cell_type": "code",
   "execution_count": 39,
   "metadata": {},
   "outputs": [
    {
     "data": {
      "text/html": [
       "9"
      ],
      "text/latex": [
       "9"
      ],
      "text/markdown": [
       "9"
      ],
      "text/plain": [
       "[1] 9"
      ]
     },
     "metadata": {},
     "output_type": "display_data"
    },
    {
     "data": {
      "text/html": [
       "<table>\n",
       "<thead><tr><th scope=col>verified.description</th><th scope=col>N</th></tr></thead>\n",
       "<tbody>\n",
       "\t<tr><td>《北京商报》记者                </td><td>1                               </td></tr>\n",
       "\t<tr><td>《外滩画报》副总编辑田健东      </td><td>1                               </td></tr>\n",
       "\t<tr><td>《证券时报》基金部记者 姚波     </td><td>1                               </td></tr>\n",
       "\t<tr><td>《证券时报》要闻部主任记者胡学文</td><td>1                               </td></tr>\n",
       "\t<tr><td>《中国企业家》记者李聪          </td><td>1                               </td></tr>\n",
       "</tbody>\n",
       "</table>\n"
      ],
      "text/latex": [
       "\\begin{tabular}{r|ll}\n",
       " verified.description & N\\\\\n",
       "\\hline\n",
       "\t 《北京商报》记者                 & 1                               \\\\\n",
       "\t 《外滩画报》副总编辑田健东       & 1                               \\\\\n",
       "\t 《证券时报》基金部记者 姚波      & 1                               \\\\\n",
       "\t 《证券时报》要闻部主任记者胡学文 & 1                               \\\\\n",
       "\t 《中国企业家》记者李聪           & 1                               \\\\\n",
       "\\end{tabular}\n"
      ],
      "text/markdown": [
       "\n",
       "verified.description | N | \n",
       "|---|---|---|---|---|\n",
       "| 《北京商报》记者                 | 1                                | \n",
       "| 《外滩画报》副总编辑田健东       | 1                                | \n",
       "| 《证券时报》基金部记者 姚波      | 1                                | \n",
       "| 《证券时报》要闻部主任记者胡学文 | 1                                | \n",
       "| 《中国企业家》记者李聪           | 1                                | \n",
       "\n",
       "\n"
      ],
      "text/plain": [
       "  verified.description             N\n",
       "1 《北京商报》记者                 1\n",
       "2 《外滩画报》副总编辑田健东       1\n",
       "3 《证券时报》基金部记者 姚波      1\n",
       "4 《证券时报》要闻部主任记者胡学文 1\n",
       "5 《中国企业家》记者李聪           1"
      ]
     },
     "metadata": {},
     "output_type": "display_data"
    }
   ],
   "source": [
    "z = ver_desc[str_detect(verified.description, '记者|编辑')]\n",
    "nrow(z)\n",
    "z[1:5]"
   ]
  },
  {
   "cell_type": "code",
   "execution_count": 38,
   "metadata": {},
   "outputs": [
    {
     "data": {
      "text/html": [
       "92"
      ],
      "text/latex": [
       "92"
      ],
      "text/markdown": [
       "92"
      ],
      "text/plain": [
       "[1] 92"
      ]
     },
     "metadata": {},
     "output_type": "display_data"
    },
    {
     "data": {
      "text/html": [
       "<table>\n",
       "<thead><tr><th scope=col>verified.description</th><th scope=col>N</th></tr></thead>\n",
       "<tbody>\n",
       "\t<tr><td>《雪球专刊》官方账号                 </td><td>1                                    </td></tr>\n",
       "\t<tr><td>RICH资讯官方帐号                     </td><td>1                                    </td></tr>\n",
       "\t<tr><td>北京汉和汉华资本管理有限公司 官方账号</td><td>1                                    </td></tr>\n",
       "\t<tr><td>北京金大虎资本管理有限公司 官方账号  </td><td>1                                    </td></tr>\n",
       "\t<tr><td>北京景富运通投资管理有限公司 官方账号</td><td>1                                    </td></tr>\n",
       "</tbody>\n",
       "</table>\n"
      ],
      "text/latex": [
       "\\begin{tabular}{r|ll}\n",
       " verified.description & N\\\\\n",
       "\\hline\n",
       "\t 《雪球专刊》官方账号                  & 1                                    \\\\\n",
       "\t RICH资讯官方帐号                      & 1                                    \\\\\n",
       "\t 北京汉和汉华资本管理有限公司 官方账号 & 1                                    \\\\\n",
       "\t 北京金大虎资本管理有限公司 官方账号   & 1                                    \\\\\n",
       "\t 北京景富运通投资管理有限公司 官方账号 & 1                                    \\\\\n",
       "\\end{tabular}\n"
      ],
      "text/markdown": [
       "\n",
       "verified.description | N | \n",
       "|---|---|---|---|---|\n",
       "| 《雪球专刊》官方账号                  | 1                                     | \n",
       "| RICH资讯官方帐号                      | 1                                     | \n",
       "| 北京汉和汉华资本管理有限公司 官方账号 | 1                                     | \n",
       "| 北京金大虎资本管理有限公司 官方账号   | 1                                     | \n",
       "| 北京景富运通投资管理有限公司 官方账号 | 1                                     | \n",
       "\n",
       "\n"
      ],
      "text/plain": [
       "  verified.description                  N\n",
       "1 《雪球专刊》官方账号                  1\n",
       "2 RICH资讯官方帐号                      1\n",
       "3 北京汉和汉华资本管理有限公司 官方账号 1\n",
       "4 北京金大虎资本管理有限公司 官方账号   1\n",
       "5 北京景富运通投资管理有限公司 官方账号 1"
      ]
     },
     "metadata": {},
     "output_type": "display_data"
    }
   ],
   "source": [
    "z = ver_desc[str_detect(verified.description, '官方')]\n",
    "nrow(z)\n",
    "z[1:5]"
   ]
  },
  {
   "cell_type": "code",
   "execution_count": 42,
   "metadata": {},
   "outputs": [
    {
     "data": {
      "text/html": [
       "133"
      ],
      "text/latex": [
       "133"
      ],
      "text/markdown": [
       "133"
      ],
      "text/plain": [
       "[1] 133"
      ]
     },
     "metadata": {},
     "output_type": "display_data"
    },
    {
     "data": {
      "text/html": [
       "<table>\n",
       "<thead><tr><th scope=col>verified.description</th><th scope=col>N</th></tr></thead>\n",
       "<tbody>\n",
       "\t<tr><td>LED行业研究达人       </td><td>1                     </td></tr>\n",
       "\t<tr><td>白酒行业研究达人      </td><td>1                     </td></tr>\n",
       "\t<tr><td>白酒行业资深研究达人  </td><td>1                     </td></tr>\n",
       "\t<tr><td>半导体行业研究达人    </td><td>1                     </td></tr>\n",
       "\t<tr><td>半导体芯片领域研究达人</td><td>1                     </td></tr>\n",
       "</tbody>\n",
       "</table>\n"
      ],
      "text/latex": [
       "\\begin{tabular}{r|ll}\n",
       " verified.description & N\\\\\n",
       "\\hline\n",
       "\t LED行业研究达人        & 1                     \\\\\n",
       "\t 白酒行业研究达人       & 1                     \\\\\n",
       "\t 白酒行业资深研究达人   & 1                     \\\\\n",
       "\t 半导体行业研究达人     & 1                     \\\\\n",
       "\t 半导体芯片领域研究达人 & 1                     \\\\\n",
       "\\end{tabular}\n"
      ],
      "text/markdown": [
       "\n",
       "verified.description | N | \n",
       "|---|---|---|---|---|\n",
       "| LED行业研究达人        | 1                      | \n",
       "| 白酒行业研究达人       | 1                      | \n",
       "| 白酒行业资深研究达人   | 1                      | \n",
       "| 半导体行业研究达人     | 1                      | \n",
       "| 半导体芯片领域研究达人 | 1                      | \n",
       "\n",
       "\n"
      ],
      "text/plain": [
       "  verified.description   N\n",
       "1 LED行业研究达人        1\n",
       "2 白酒行业研究达人       1\n",
       "3 白酒行业资深研究达人   1\n",
       "4 半导体行业研究达人     1\n",
       "5 半导体芯片领域研究达人 1"
      ]
     },
     "metadata": {},
     "output_type": "display_data"
    }
   ],
   "source": [
    "user_daren = ver_desc[str_detect(verified.description, '达人')]\n",
    "nrow(user_daren)\n",
    "user_daren[1:5]"
   ]
  },
  {
   "cell_type": "code",
   "execution_count": 47,
   "metadata": {},
   "outputs": [
    {
     "data": {
      "text/html": [
       "<table>\n",
       "<thead><tr><th scope=col>user.id</th><th scope=col>lastcrawl</th><th scope=col>screen.name</th><th scope=col>gender</th><th scope=col>province</th><th scope=col>city</th><th scope=col>verified.type</th><th scope=col>verified</th><th scope=col>verified.realname</th><th scope=col>verified.description</th><th scope=col>fans.count</th><th scope=col>follow.count</th><th scope=col>stock.count</th><th scope=col>cube.count</th><th scope=col>status.count</th><th scope=col>donate.count</th><th scope=col>st.color</th><th scope=col>step</th><th scope=col>status</th><th scope=col>allow.all.stock</th><th scope=col>domain</th><th scope=col>type</th><th scope=col>url</th><th scope=col>description</th><th scope=col>last.status.id</th></tr></thead>\n",
       "<tbody>\n",
       "\t<tr><td>8433490441                           </td><td>1901                                 </td><td>Xavier穷开心                         </td><td>m                                    </td><td>北京                                 </td><td>不限                                 </td><td>1                                    </td><td>TRUE                                 </td><td>FALSE                                </td><td>北京亿欧网盟科技有限公司分析师 肖泽尧</td><td>14722                                </td><td>88                                   </td><td>79                                   </td><td>1                                    </td><td>41                                   </td><td>0                                    </td><td>1                                    </td><td>null                                 </td><td>1                                    </td><td>FALSE                                </td><td>NA                                   </td><td>1                                    </td><td>NA                                   </td><td>Stay hungry，Stay foolish            </td><td>117687354                            </td></tr>\n",
       "</tbody>\n",
       "</table>\n"
      ],
      "text/latex": [
       "\\begin{tabular}{r|lllllllllllllllllllllllll}\n",
       " user.id & lastcrawl & screen.name & gender & province & city & verified.type & verified & verified.realname & verified.description & fans.count & follow.count & stock.count & cube.count & status.count & donate.count & st.color & step & status & allow.all.stock & domain & type & url & description & last.status.id\\\\\n",
       "\\hline\n",
       "\t 8433490441                            & 1901                                  & Xavier穷开心                          & m                                     & 北京                                  & 不限                                  & 1                                     & TRUE                                  & FALSE                                 & 北京亿欧网盟科技有限公司分析师 肖泽尧 & 14722                                 & 88                                    & 79                                    & 1                                     & 41                                    & 0                                     & 1                                     & null                                  & 1                                     & FALSE                                 & NA                                    & 1                                     & NA                                    & Stay hungry，Stay foolish             & 117687354                            \\\\\n",
       "\\end{tabular}\n"
      ],
      "text/markdown": [
       "\n",
       "user.id | lastcrawl | screen.name | gender | province | city | verified.type | verified | verified.realname | verified.description | fans.count | follow.count | stock.count | cube.count | status.count | donate.count | st.color | step | status | allow.all.stock | domain | type | url | description | last.status.id | \n",
       "|---|\n",
       "| 8433490441                            | 1901                                  | Xavier穷开心                          | m                                     | 北京                                  | 不限                                  | 1                                     | TRUE                                  | FALSE                                 | 北京亿欧网盟科技有限公司分析师 肖泽尧 | 14722                                 | 88                                    | 79                                    | 1                                     | 41                                    | 0                                     | 1                                     | null                                  | 1                                     | FALSE                                 | NA                                    | 1                                     | NA                                    | Stay hungry，Stay foolish             | 117687354                             | \n",
       "\n",
       "\n"
      ],
      "text/plain": [
       "  user.id    lastcrawl screen.name  gender province city verified.type verified\n",
       "1 8433490441 1901      Xavier穷开心 m      北京     不限 1             TRUE    \n",
       "  verified.realname verified.description                  fans.count\n",
       "1 FALSE             北京亿欧网盟科技有限公司分析师 肖泽尧 14722     \n",
       "  follow.count stock.count cube.count status.count donate.count st.color step\n",
       "1 88           79          1          41           0            1        null\n",
       "  status allow.all.stock domain type url description              \n",
       "1 1      FALSE           NA     1    NA  Stay hungry，Stay foolish\n",
       "  last.status.id\n",
       "1 117687354     "
      ]
     },
     "metadata": {},
     "output_type": "display_data"
    }
   ],
   "source": [
    "z = ver_desc[str_detect(verified.description, '北京亿欧网盟科技有限公司分析师')]\n",
    "user[str_detect(verified.description, '北京亿欧网盟科技有限公司分析师')]\n"
   ]
  },
  {
   "cell_type": "markdown",
   "metadata": {},
   "source": [
    "## trading"
   ]
  },
  {
   "cell_type": "markdown",
   "metadata": {},
   "source": [
    "criteria: last longer than 60 days\n",
    "\n",
    "- portfolio numbers:\n",
    "\n",
    "|portfolio type|number|earliest entry|\n",
    "|--------------|------|--------------|\n",
    "|virtual          |800k  |2014-10|\n",
    "|real       |6k    |2016-6|\n",
    "\n",
    "- trading descriptive:\n",
    "\n",
    "|portfolio type|trading volume (% of weight)|days between two trades|\n",
    "|--------------|---|-----------------------|\n",
    "|real          |12 |4                      |\n",
    "|virtual       |7  |73                     |\n",
    "\n",
    "- annual return (in percentage):\n",
    "\n",
    "|portfolio type|min|median|max|s.d.|\n",
    "|--------------|---|---|-|----------------|\n",
    "|real          |-66 |3.0|5187|152      |\n",
    "|virtual       |-67 |-3.4 |5643|20     |\n",
    "\n",
    "- time distribution of trades\n",
    "![time distribution of trades](../img/trade-time-distribution.png)"
   ]
  },
  {
   "cell_type": "code",
   "execution_count": 43,
   "metadata": {},
   "outputs": [
    {
     "name": "stdout",
     "output_type": "stream",
     "text": [
      "' r.cube.rb.mst.1901 ' successfully loaded \n",
      "Use 1.77 mins \n"
     ]
    }
   ],
   "source": [
    "ld(r.cube.rb.mst.1901, xq_mst_path)"
   ]
  },
  {
   "cell_type": "code",
   "execution_count": null,
   "metadata": {},
   "outputs": [],
   "source": [
    "r.cube.rb.mst.1901[1:4]"
   ]
  },
  {
   "cell_type": "code",
   "execution_count": 50,
   "metadata": {},
   "outputs": [
    {
     "name": "stdout",
     "output_type": "stream",
     "text": [
      "' r.user.cmt.mst.1901 ' successfully loaded \n",
      "Use 4.61 mins \n"
     ]
    }
   ],
   "source": [
    "ld(r.user.cmt.mst.1901, xq_mst_path)"
   ]
  },
  {
   "cell_type": "code",
   "execution_count": null,
   "metadata": {},
   "outputs": [],
   "source": [
    "r.user.cmt.mst.1901[1:10]"
   ]
  }
 ],
 "metadata": {
  "kernelspec": {
   "display_name": "MRO-3.5.1",
   "language": "R",
   "name": "ir35"
  },
  "language_info": {
   "codemirror_mode": "r",
   "file_extension": ".r",
   "mimetype": "text/x-r-source",
   "name": "R",
   "pygments_lexer": "r",
   "version": "3.5.1"
  },
  "toc-autonumbering": true,
  "toc-showcode": false
 },
 "nbformat": 4,
 "nbformat_minor": 2
}
